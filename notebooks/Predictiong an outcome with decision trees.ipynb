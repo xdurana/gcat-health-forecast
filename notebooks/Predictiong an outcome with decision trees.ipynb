{
 "cells": [
  {
   "cell_type": "markdown",
   "metadata": {},
   "source": [
    "## Predictiong an outcome with decision trees"
   ]
  },
  {
   "cell_type": "code",
   "execution_count": 1,
   "metadata": {
    "collapsed": true
   },
   "outputs": [],
   "source": [
    "import numpy as np\n",
    "import pandas as pd\n",
    "import matplotlib as mpl\n",
    "import matplotlib.pyplot as plt\n",
    "from matplotlib.pylab import *\n",
    "%matplotlib inline"
   ]
  },
  {
   "cell_type": "markdown",
   "metadata": {},
   "source": [
    "## Preprocess dataset"
   ]
  },
  {
   "cell_type": "code",
   "execution_count": 66,
   "metadata": {
    "collapsed": false
   },
   "outputs": [],
   "source": [
    "ds = pd.read_csv(\"../output/binary.csv\", low_memory=False)\n",
    "\n",
    "to_remove = [\n",
    "    'entity_id',\n",
    "    'FECHA_NACIMIENTO',\n",
    "    'PAIS_NACIMIENTO',\n",
    "    'MUNICIPIO_NACIMIENTO',\n",
    "    'PROVINCIA_RESIDENCIA',\n",
    "    'MUNICIPIO_RESIDENCIA',\n",
    "    'CALC_AVG_PESO',\n",
    "    'CALC_AVG_HEIGHT',\n",
    "    'CALC_AVG_CINTURA',\n",
    "    'CALC_AVG_CADERA',\n",
    "    'ENFERMEDADES_DIABETES_T2DM',\n",
    "    'ENFERMEDADES_DIABETES_GESTACIONAL',\n",
    "    'ENFERMEDADES_DIABETES_T1DM'\n",
    "]\n",
    "\n",
    "ds = ds.drop(to_remove, axis=1)"
   ]
  },
  {
   "cell_type": "code",
   "execution_count": 67,
   "metadata": {
    "collapsed": false
   },
   "outputs": [],
   "source": [
    "ds = ds[np.isfinite(ds['EDAD_ANOS'])]\n",
    "ds = ds[np.isfinite(ds['BMI'])]\n",
    "ds = ds[np.isfinite(ds['WHR'])]\n",
    "ds = ds[np.isfinite(ds['SEXO'])]\n",
    "ds = ds[np.isfinite(ds['PREDIMED'])]\n",
    "ds = ds[np.isfinite(ds['CALC_AVG_SYSTOLIC_BP'])]\n",
    "ds = ds[np.isfinite(ds['CALC_AVG_DIASTOLIC_BP'])]\n",
    "ds = ds[np.isfinite(ds['CALC_AVG_PULSE_RATE'])]"
   ]
  },
  {
   "cell_type": "code",
   "execution_count": 68,
   "metadata": {
    "collapsed": false
   },
   "outputs": [],
   "source": [
    "outcome = 'ENFERMEDADES_DIABETES'\n",
    "ds = ds[~ds[outcome].isnull()]"
   ]
  },
  {
   "cell_type": "code",
   "execution_count": 69,
   "metadata": {
    "collapsed": true
   },
   "outputs": [],
   "source": [
    "ds = ds.fillna(-1)"
   ]
  },
  {
   "cell_type": "markdown",
   "metadata": {},
   "source": [
    "## Split onto training & test dataset"
   ]
  },
  {
   "cell_type": "code",
   "execution_count": 70,
   "metadata": {
    "collapsed": false
   },
   "outputs": [],
   "source": [
    "from sklearn.cross_validation import train_test_split\n",
    "train, test = train_test_split(ds, train_size = 0.8)"
   ]
  },
  {
   "cell_type": "code",
   "execution_count": 71,
   "metadata": {
    "collapsed": false
   },
   "outputs": [],
   "source": [
    "y_train = train[outcome]\n",
    "X_train = train.drop(outcome, 1)\n",
    "\n",
    "y_test = test[outcome]\n",
    "X_test = test.drop(outcome, 1)"
   ]
  },
  {
   "cell_type": "markdown",
   "metadata": {},
   "source": [
    "## Train decision tree"
   ]
  },
  {
   "cell_type": "code",
   "execution_count": 72,
   "metadata": {
    "collapsed": false
   },
   "outputs": [
    {
     "name": "stdout",
     "output_type": "stream",
     "text": [
      "0.70683003982 {'max_depth': 8, 'min_samples_split': 61}\n"
     ]
    }
   ],
   "source": [
    "from sklearn.tree import DecisionTreeClassifier, export_graphviz\n",
    "from sklearn import cross_validation\n",
    "from sklearn import tree\n",
    "from sklearn import grid_search\n",
    "from sklearn.metrics import roc_auc_score\n",
    "\n",
    "parameters = {'max_depth': np.arange(1, 10), 'min_samples_split': np.arange(1, 100, 10)}\n",
    "clf = grid_search.GridSearchCV(tree.DecisionTreeClassifier(), parameters, n_jobs=4, scoring='roc_auc')\n",
    "clf.fit(X=X_train, y=y_train)\n",
    "\n",
    "tree_model = clf.best_estimator_\n",
    "print (clf.best_score_, clf.best_params_)"
   ]
  },
  {
   "cell_type": "code",
   "execution_count": 73,
   "metadata": {
    "collapsed": false
   },
   "outputs": [
    {
     "data": {
      "text/plain": [
       "WHR                                        0.133482\n",
       "ENFERMEDADES_HTA                           0.099431\n",
       "CALC_AVG_PULSE_RATE                        0.091939\n",
       "CRIBADO_HECES_EDAD                         0.063408\n",
       "EDAD_ANOS                                  0.050669\n",
       "ESTADO_PESO_MAXIMO                         0.047443\n",
       "LABORAL_NUMERO_DE_EMPLEOS_ANO              0.042969\n",
       "CALC_AVG_SYSTOLIC_BP                       0.041047\n",
       "CALC_AVG_DIASTOLIC_BP                      0.036613\n",
       "LABORAL_ESTADO_5                           0.027411\n",
       "ESTADO_CIVIL_4                             0.025791\n",
       "INGRESOS_0                                 0.022855\n",
       "ESTUDIOS_4                                 0.019717\n",
       "ENFERMEDADES_HIPERCOLESTEROLEMIA           0.019615\n",
       "BMI                                        0.019232\n",
       "FAMILIA_PADRE_EDAD                         0.018348\n",
       "ESTADO_PESO_MINIMO                         0.014666\n",
       "CONVIVENCIA_HOGAR_5                        0.014093\n",
       "ENFERMEDADES_CANCER                        0.013661\n",
       "SALUD_HOMBRES_HIJOS_3                      0.012903\n",
       "ENFERMEDADES_ALZHEIMER                     0.012642\n",
       "ETNIA_PARTICIPANTE_5                       0.012638\n",
       "LABORAL_ESTADO_4                           0.012476\n",
       "SALUD_MUJER_MENSTRUACION_ULTIMA_EDAD       0.012278\n",
       "CRIBADO_CITOLOGIA_EDAD                     0.012271\n",
       "CRIBADO_HECES_RESULTADO_ANTERIOR_22        0.012248\n",
       "CRIBADO_MAMOGRAFIA_RESULTADO_25            0.012225\n",
       "SALUD_HOMBRE_CALVICIE_40_0                 0.012223\n",
       "ADOPCION                                   0.012194\n",
       "CRIBADO_CITOLOGIA_RESULTADO_ANTERIOR_22    0.012194\n",
       "SALUD_HOMBRES_HIJOS_5                      0.011742\n",
       "SALUD_MUJER_EMBARAZOS_6                    0.011488\n",
       "SALUD_MUJER_EMBARAZOS_9                    0.010888\n",
       "SOCIALIZACION_DIRECTA_AMIGOS_5             0.010839\n",
       "SALUD_MUJER_EMBARAZOS_5                    0.005362\n",
       "CONVIVENCIA_PAREJA_ANO                     0.004252\n",
       "SALUD_MUJER_ESTADO_DE_SALUD_PERFIL         0.003750\n",
       "ESTADO_DE_SALUD_0                          0.003000\n",
       "dtype: float64"
      ]
     },
     "execution_count": 73,
     "metadata": {},
     "output_type": "execute_result"
    }
   ],
   "source": [
    "features = X_train.columns[tree_model.feature_importances_ > 0]\n",
    "importances = tree_model.feature_importances_[tree_model.feature_importances_ > 0]\n",
    "\n",
    "feature_model = pd.Series(importances, index=features).sort_values(axis=0, ascending=False)\n",
    "feature_model"
   ]
  },
  {
   "cell_type": "markdown",
   "metadata": {},
   "source": [
    "## Report on test set"
   ]
  },
  {
   "cell_type": "code",
   "execution_count": 74,
   "metadata": {
    "collapsed": false,
    "scrolled": true
   },
   "outputs": [],
   "source": [
    "import numpy as np\n",
    "from sklearn.metrics import roc_auc_score, roc_curve\n",
    "\n",
    "tree_preds = tree_model.predict_proba(X_test)[:, 1]\n",
    "tree_performance = roc_auc_score(y_test, tree_preds)"
   ]
  },
  {
   "cell_type": "code",
   "execution_count": 75,
   "metadata": {
    "collapsed": false
   },
   "outputs": [
    {
     "name": "stdout",
     "output_type": "stream",
     "text": [
      "DecisionTree: Area under the ROC curve = 0.6601741116026831\n"
     ]
    },
    {
     "data": {
      "image/png": "[encoded data removed]",
      "text/plain": [
       "<matplotlib.figure.Figure at 0x7f35444ea048>"
      ]
     },
     "metadata": {},
     "output_type": "display_data"
    }
   ],
   "source": [
    "fpr, tpr, thresholds = roc_curve(y_test, tree_preds)\n",
    "plt.plot(fpr, tpr)\n",
    "plt.xlim([0.0, 1.0])\n",
    "plt.ylim([0.0, 1.0])\n",
    "plt.title('%s ROC curve' % outcome)\n",
    "plt.xlabel('False positive rate')\n",
    "plt.ylabel('True positive rate')\n",
    "plt.grid(True)\n",
    "print('DecisionTree: Area under the ROC curve = {}'.format(tree_performance))"
   ]
  },
  {
   "cell_type": "markdown",
   "metadata": {},
   "source": [
    "## Evaluate quality of the predictions"
   ]
  },
  {
   "cell_type": "markdown",
   "metadata": {},
   "source": [
    "### Distribition of the predictions"
   ]
  },
  {
   "cell_type": "code",
   "execution_count": 76,
   "metadata": {
    "collapsed": false
   },
   "outputs": [
    {
     "data": {
      "text/plain": [
       "array([[<matplotlib.axes._subplots.AxesSubplot object at 0x7f354ebad080>]], dtype=object)"
      ]
     },
     "execution_count": 76,
     "metadata": {},
     "output_type": "execute_result"
    },
    {
     "data": {
      "image/png": "[encoded data removed]",
      "text/plain": [
       "<matplotlib.figure.Figure at 0x7f354eb5e7f0>"
      ]
     },
     "metadata": {},
     "output_type": "display_data"
    }
   ],
   "source": [
    "pd.DataFrame(tree_preds).hist(log=True)"
   ]
  },
  {
   "cell_type": "markdown",
   "metadata": {},
   "source": [
    "### Confusion matrix"
   ]
  },
  {
   "cell_type": "code",
   "execution_count": 77,
   "metadata": {
    "collapsed": false
   },
   "outputs": [
    {
     "name": "stdout",
     "output_type": "stream",
     "text": [
      "Confusion matrix, without normalization\n",
      "[[2217   58]\n",
      " [  68    9]]\n"
     ]
    },
    {
     "data": {
      "image/png": "[encoded data removed]",
      "text/plain": [
       "<matplotlib.figure.Figure at 0x7f354eb1e518>"
      ]
     },
     "metadata": {},
     "output_type": "display_data"
    }
   ],
   "source": [
    "from sklearn.metrics import confusion_matrix\n",
    "\n",
    "def plot_confusion_matrix(cm, title='Confusion matrix', cmap=plt.cm.Blues):\n",
    "    plt.imshow(cm, interpolation='nearest', cmap=cmap)\n",
    "    plt.title(title)\n",
    "    plt.colorbar()\n",
    "    plt.tight_layout()\n",
    "    plt.ylabel('True label')\n",
    "    plt.xlabel('Predicted label')\n",
    "\n",
    "y_pred = (tree_preds > 0.30)\n",
    "    \n",
    "cm = confusion_matrix(y_test, y_pred)\n",
    "np.set_printoptions(precision=2)\n",
    "print('Confusion matrix, without normalization')\n",
    "print(cm)\n",
    "plt.figure()\n",
    "plot_confusion_matrix(cm)"
   ]
  },
  {
   "cell_type": "markdown",
   "metadata": {},
   "source": [
    "## Draw classification tree"
   ]
  },
  {
   "cell_type": "code",
   "execution_count": 78,
   "metadata": {
    "collapsed": false
   },
   "outputs": [],
   "source": [
    "import os\n",
    "\n",
    "filename = '../output/t2dm.dot'\n",
    "with open(filename, 'w') as f:\n",
    "    f = tree.export_graphviz(tree_model, out_file=f, feature_names=X_test.columns)"
   ]
  },
  {
   "cell_type": "markdown",
   "metadata": {},
   "source": [
    "[GraphvizOnline](http://dreampuf.github.io/GraphvizOnline/)"
   ]
  }
 ],
 "metadata": {
  "kernelspec": {
   "display_name": "Python 3",
   "language": "python",
   "name": "python3"
  },
  "language_info": {
   "codemirror_mode": {
    "name": "ipython",
    "version": 3
   },
   "file_extension": ".py",
   "mimetype": "text/x-python",
   "name": "python",
   "nbconvert_exporter": "python",
   "pygments_lexer": "ipython3",
   "version": "3.5.0"
  }
 },
 "nbformat": 4,
 "nbformat_minor": 0
}
