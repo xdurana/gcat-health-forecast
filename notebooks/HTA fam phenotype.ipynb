{
 "cells": [
  {
   "cell_type": "markdown",
   "metadata": {},
   "source": [
    "![GCAT | Genomes for Life](images/logo-GCAT.png)"
   ]
  },
  {
   "cell_type": "markdown",
   "metadata": {},
   "source": [
    "# Merge clean datasets"
   ]
  },
  {
   "cell_type": "code",
   "execution_count": 1,
   "metadata": {
    "collapsed": true
   },
   "outputs": [],
   "source": [
    "import numpy as np\n",
    "import pandas as pd\n",
    "import matplotlib as mpl\n",
    "import matplotlib.pyplot as plt\n",
    "from matplotlib.pylab import *\n",
    "import os\n",
    "%matplotlib inline"
   ]
  },
  {
   "cell_type": "markdown",
   "metadata": {},
   "source": [
    "## HTA fam phenotype"
   ]
  },
  {
   "cell_type": "code",
   "execution_count": 11,
   "metadata": {
    "collapsed": false
   },
   "outputs": [],
   "source": [
    "genotyped = pd.read_csv('output/genotyped.csv')"
   ]
  },
  {
   "cell_type": "code",
   "execution_count": 12,
   "metadata": {
    "collapsed": false
   },
   "outputs": [],
   "source": [
    "fam = genotyped.copy()\n",
    "phenotype_column = 'ENFERMEDADES_HTA'\n",
    "\n",
    "fam = fam.replace({phenotype_column : { 0 : 'control', 1 : 'case', None: 'none'}})\n",
    "fam = fam.replace({phenotype_column : { 'control': 1, 'case': 2, 'none': 0}})\n",
    "\n",
    "fam = fam.loc[~fam['sample_name'].isnull()]\n",
    "\n",
    "fam = fam[['sample_name', phenotype_column]]"
   ]
  },
  {
   "cell_type": "code",
   "execution_count": 13,
   "metadata": {
    "collapsed": false
   },
   "outputs": [],
   "source": [
    "phe = pd.read_csv('/home/labs/dnalab/xduran/Downloads/gwggi.unix/data/hta.recode.ped', sep='\\t', header=None)\n",
    "phe.columns = ['i', 'sample_name', 'father', 'mother', 'gender', 'phenotype']"
   ]
  },
  {
   "cell_type": "code",
   "execution_count": 14,
   "metadata": {
    "collapsed": false
   },
   "outputs": [],
   "source": [
    "res = pd.merge(phe, fam, how='left')\n",
    "res = res[['i', 'sample_name', 'father', 'mother', 'gender', phenotype_column]]"
   ]
  },
  {
   "cell_type": "code",
   "execution_count": 15,
   "metadata": {
    "collapsed": true
   },
   "outputs": [],
   "source": [
    "res.to_csv('/home/labs/dnalab/xduran/Downloads/gwggi.unix/data/hta.recode2.ped', sep='\\t', header = False, index=False)"
   ]
  }
 ],
 "metadata": {
  "kernelspec": {
   "display_name": "Python 3",
   "language": "python",
   "name": "python3"
  },
  "language_info": {
   "codemirror_mode": {
    "name": "ipython",
    "version": 3
   },
   "file_extension": ".py",
   "mimetype": "text/x-python",
   "name": "python",
   "nbconvert_exporter": "python",
   "pygments_lexer": "ipython3",
   "version": "3.5.0"
  }
 },
 "nbformat": 4,
 "nbformat_minor": 0
}
